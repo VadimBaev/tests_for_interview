{
 "cells": [
  {
   "cell_type": "code",
   "execution_count": null,
   "id": "61f20144",
   "metadata": {},
   "outputs": [],
   "source": [
    "!git clone https://github.com/VadimBaev/tests_for_interview.git"
   ]
  },
  {
   "cell_type": "code",
   "execution_count": null,
   "id": "2ea3ee2a",
   "metadata": {},
   "outputs": [],
   "source": [
    "cd tests_for_interview"
   ]
  },
  {
   "cell_type": "code",
   "execution_count": null,
   "id": "04d8c09c-be71-494c-ac8b-9ae13da7d8cf",
   "metadata": {},
   "outputs": [],
   "source": [
    "ls -la"
   ]
  },
  {
   "cell_type": "markdown",
   "id": "706a53d0",
   "metadata": {},
   "source": [
    "# Pandas"
   ]
  },
  {
   "cell_type": "code",
   "execution_count": null,
   "id": "269da740",
   "metadata": {},
   "outputs": [],
   "source": [
    "!pip install pandasql"
   ]
  },
  {
   "cell_type": "code",
   "execution_count": null,
   "id": "5c49fd37",
   "metadata": {},
   "outputs": [],
   "source": [
    "import pandas as pd\n",
    "import sqlite3\n",
    "import pandasql as ps\n",
    "import numpy as np"
   ]
  },
  {
   "cell_type": "code",
   "execution_count": null,
   "id": "7e5f1a3b",
   "metadata": {},
   "outputs": [],
   "source": [
    "# импортим файлы\n",
    "data = "
   ]
  },
  {
   "cell_type": "code",
   "execution_count": null,
   "id": "9126bf9a-8177-4aaf-b1da-82fcb833374d",
   "metadata": {},
   "outputs": [],
   "source": [
    "actions = "
   ]
  },
  {
   "cell_type": "code",
   "execution_count": null,
   "id": "74bd7e9f",
   "metadata": {},
   "outputs": [],
   "source": [
    "conn = sqlite3.connect(':memory:') \n",
    " \n",
    "# сохраняем DataFrame как таблицу в базе данных \n",
    "data.to_sql('my_table', conn, index=False) \n",
    "actions.to_sql('user_actions', conn, index=False)"
   ]
  },
  {
   "cell_type": "markdown",
   "id": "dede7943-28c0-4409-8bfb-539d14607cf9",
   "metadata": {},
   "source": [
    "# Общая информация о датасете"
   ]
  },
  {
   "cell_type": "code",
   "execution_count": null,
   "id": "d4bce334",
   "metadata": {},
   "outputs": [],
   "source": [
    "# Смотрим структуру таблицы, типы данных, количество строк и столбцов\n",
    "data"
   ]
  },
  {
   "cell_type": "code",
   "execution_count": null,
   "id": "04117b27-49a0-41e4-bdbe-1634ad4f85cd",
   "metadata": {},
   "outputs": [],
   "source": [
    "actions"
   ]
  },
  {
   "cell_type": "markdown",
   "id": "7f99d1f4-1245-4d6d-a048-c77f8a026259",
   "metadata": {},
   "source": [
    "# SQL"
   ]
  },
  {
   "cell_type": "markdown",
   "id": "deab5d56-cd6c-4963-81be-93c1d6679127",
   "metadata": {},
   "source": [
    "## Задача 1: Какое количество уникальных пользователей и дубликатов по User_ID"
   ]
  },
  {
   "cell_type": "code",
   "execution_count": null,
   "id": "7cda53fd-3f56-4645-8e81-2207c16eb767",
   "metadata": {},
   "outputs": [],
   "source": [
    "# Количество уникальных пользователей\n",
    "q1 = \"\"\"\n",
    "    SELECT\n",
    "    \"\"\"\n",
    "\n",
    "result = pd.read_sql_query(q1, conn) \n",
    "result.head()"
   ]
  },
  {
   "cell_type": "code",
   "execution_count": null,
   "id": "8d9ac746-0b45-4bdb-bea4-01cc78b20ec7",
   "metadata": {},
   "outputs": [],
   "source": [
    "# Количество дубликатов (повторяющихся ID)\n",
    "q1 = \"\"\"\n",
    "    SELECT\n",
    "    \"\"\"\n",
    "\n",
    "result = pd.read_sql_query(q1, conn) \n",
    "result.head()"
   ]
  },
  {
   "cell_type": "markdown",
   "id": "40a356fc-6e86-4290-97e7-5e5d5dc6db89",
   "metadata": {},
   "source": [
    "## Задача 2: Посчитать количество пропусков в Product_Category_2 и Product_Category_3 в одном запросе"
   ]
  },
  {
   "cell_type": "code",
   "execution_count": null,
   "id": "1908b7d7-4abd-4837-b32b-a2de11701e65",
   "metadata": {},
   "outputs": [],
   "source": [
    "# Количество пропусков\n",
    "q1 = \"\"\"\n",
    "    SELECT \n",
    "    \"\"\"\n",
    "\n",
    "result = pd.read_sql_query(q1, conn) \n",
    "result.head()"
   ]
  },
  {
   "cell_type": "markdown",
   "id": "d0151e77-5830-4e69-a147-a4fe6b65f137",
   "metadata": {},
   "source": [
    "## Задача 3: Создай новое поле Purchase_cat с категориями покупок\n",
    "- Purchase_cat = '<5000' , если Purchase < 5000\n",
    "- Purchase_cat = '5000 - 8000' , если 5000 <= Purchase < 8000\n",
    "- Purchase_cat = '>=8000' , если 8000 <= Purchase"
   ]
  },
  {
   "cell_type": "code",
   "execution_count": null,
   "id": "dffd9c75-c217-4551-8cd9-6353b9a3f115",
   "metadata": {},
   "outputs": [],
   "source": [
    "# Выведи все поля + новое поле\n",
    "q1 = \"\"\"\n",
    "    SELECT\n",
    "    \"\"\"\n",
    "\n",
    "result = pd.read_sql_query(q1, conn) \n",
    "result.head()"
   ]
  },
  {
   "cell_type": "markdown",
   "id": "23da98e9-065b-440d-831f-d96f684ed1c2",
   "metadata": {},
   "source": [
    "## Задача 4: Какая средняя сумма покупок и количество покупателей мужского и женского пола, проживающих в городе типа А"
   ]
  },
  {
   "cell_type": "code",
   "execution_count": null,
   "id": "29b1d912-9099-4da9-bdbd-dcf9f1f20b93",
   "metadata": {},
   "outputs": [],
   "source": [
    "# Вывести пол, количество покупателей и среднюю сумму\n",
    "q1 = \"\"\"\n",
    "    SELECT \n",
    "    \"\"\"\n",
    "\n",
    "result = pd.read_sql_query(q1, conn) \n",
    "result.head()"
   ]
  },
  {
   "cell_type": "markdown",
   "id": "feab8e60-2d82-4669-83ee-d9999cb0cc4e",
   "metadata": {},
   "source": [
    "## Задача 5: Найди топ-3 пользователя по сумме покупок при условии что покупок > 50"
   ]
  },
  {
   "cell_type": "code",
   "execution_count": null,
   "id": "61474517-ade6-43ce-8e5a-bb90a9dea508",
   "metadata": {},
   "outputs": [],
   "source": [
    "# Вывести ТОП-3\n",
    "q1 = \"\"\"\n",
    "    SELECT\n",
    "    \"\"\"\n",
    "\n",
    "result = pd.read_sql_query(q1, conn) \n",
    "result.head()"
   ]
  },
  {
   "cell_type": "markdown",
   "id": "cae310a5-1691-4c6d-9fb2-8215edb4137b",
   "metadata": {},
   "source": [
    "## Задача 6: Найди вторую по стоимости покупку для пользователей с User_ID 1000001, 1000002, 1000003 (если таких несколько, то первая по порядку)"
   ]
  },
  {
   "cell_type": "code",
   "execution_count": null,
   "id": "aae48af7-66df-4488-b202-39752e254517",
   "metadata": {},
   "outputs": [],
   "source": [
    "# Выведи User_ID и стоимость покупки\n",
    "q1 = \"\"\"\n",
    "    SELECT\n",
    "    \"\"\"\n",
    "\n",
    "result = pd.read_sql_query(q1, conn) \n",
    "result.head()"
   ]
  },
  {
   "cell_type": "markdown",
   "id": "4f16c372-8bb9-4d7a-80a1-f4437f9fbecd",
   "metadata": {},
   "source": [
    "## Задача 7: Посчитайте количество юзеров, которые не совершили ни одного действия"
   ]
  },
  {
   "cell_type": "code",
   "execution_count": null,
   "id": "a60c1fc7-c324-4eb1-b8d6-94c9ab3477d1",
   "metadata": {},
   "outputs": [],
   "source": [
    "# Выведи количество юзеров, используя вспомогательную таблицу user_actions\n",
    "q1 = \"\"\"\n",
    "      SELECT\n",
    "    \"\"\"\n",
    "\n",
    "result = pd.read_sql_query(q1, conn) \n",
    "result.head()"
   ]
  },
  {
   "cell_type": "markdown",
   "id": "c80c2465",
   "metadata": {},
   "source": [
    "# Pandas"
   ]
  },
  {
   "cell_type": "markdown",
   "id": "91944017-f752-4686-9b73-9ccb7a3ebfad",
   "metadata": {},
   "source": [
    "## Задача 1: Какое количество уникальных пользователей и дубликатов по User_ID"
   ]
  },
  {
   "cell_type": "code",
   "execution_count": null,
   "id": "4ef24bc5-a87a-4c15-8ffe-7ee02b10455e",
   "metadata": {},
   "outputs": [],
   "source": [
    "# Выведи количество уникальных пользователей\n",
    "data"
   ]
  },
  {
   "cell_type": "code",
   "execution_count": null,
   "id": "728d5953-4e73-41ef-b737-56c2e43e8c85",
   "metadata": {},
   "outputs": [],
   "source": [
    "# Выведи количество дубликатов по User_ID\n",
    "data"
   ]
  },
  {
   "cell_type": "markdown",
   "id": "ed259286-446a-428e-a7bd-e714e836dce1",
   "metadata": {},
   "source": [
    "## Задача 2: Посчитать количество пропусков в Product_Category_2 и Product_Category_3"
   ]
  },
  {
   "cell_type": "code",
   "execution_count": null,
   "id": "d8b70065-438f-4319-ab15-99fd006a00f8",
   "metadata": {},
   "outputs": [],
   "source": [
    "# Выведи количество пропусков в категориях\n",
    "data"
   ]
  },
  {
   "cell_type": "markdown",
   "id": "57cbe5fb-8d7b-4d04-a752-114becb3106b",
   "metadata": {},
   "source": [
    "## Задача 3: Сколько женщин из города категории A старше 55 лет?"
   ]
  },
  {
   "cell_type": "code",
   "execution_count": null,
   "id": "06a04f0f-de9b-41a1-a50f-522b747ec0db",
   "metadata": {},
   "outputs": [],
   "source": [
    "# Выведи количество женщин\n",
    "data"
   ]
  },
  {
   "cell_type": "markdown",
   "id": "b98d4655-c8e6-4976-9dd6-5c7f2a557325",
   "metadata": {},
   "source": [
    "## Задача 4: Какая доля от всех покупок приходится на город категории А?"
   ]
  },
  {
   "cell_type": "code",
   "execution_count": null,
   "id": "f8e587e4-431f-478a-a797-810bb047cb98",
   "metadata": {},
   "outputs": [],
   "source": [
    "# Выведи долю от всех покупок\n",
    "data"
   ]
  },
  {
   "cell_type": "markdown",
   "id": "8f1324d4-50cd-4405-bffb-34ab420134af",
   "metadata": {},
   "source": [
    "## Задача 5: Какая возрастная категория самая прибыльная?"
   ]
  },
  {
   "cell_type": "code",
   "execution_count": null,
   "id": "0b51b721-b88e-430d-92fa-998303631488",
   "metadata": {},
   "outputs": [],
   "source": [
    "# Выведи все категории с суммами\n",
    "data"
   ]
  },
  {
   "cell_type": "markdown",
   "id": "4c42c12a-bdd3-4344-b91f-48c030b30181",
   "metadata": {},
   "source": [
    "## Задача 6: Какая средняя сумма покупок и количество покупателей мужского и женского пола, проживающих в городе типа А"
   ]
  },
  {
   "cell_type": "code",
   "execution_count": null,
   "id": "36e6f3d8-c34b-4efc-b5c3-20beb297de24",
   "metadata": {},
   "outputs": [],
   "source": [
    "# Выведи пол, количество покупателей и среднюю сумму\n",
    "data"
   ]
  },
  {
   "cell_type": "markdown",
   "id": "3f7884f6-975d-423d-b016-fd6dcc575b00",
   "metadata": {},
   "source": [
    "## Задача 7: Создай категориальную фичу Purchase_Сat с помощью колонки Purchase:\n",
    "\n",
    "Purchase_cat = '<5000' , если Purchase < 5000\n",
    "\n",
    "Purchase_cat = '5000 - 8000' , если 5000 <= Purchase < 8000\n",
    "\n",
    "Purchase_cat = '>=8000' , если 8000 <= Purchase"
   ]
  },
  {
   "cell_type": "code",
   "execution_count": null,
   "id": "6fa4f228",
   "metadata": {},
   "outputs": [],
   "source": [
    "# Выведи датафрейм с новой категорией\n",
    "data.loc..."
   ]
  },
  {
   "cell_type": "markdown",
   "id": "c98940ec-0bd7-43af-8cb2-f8d2865264d9",
   "metadata": {},
   "source": [
    "## Задача 8: Создай таблицу shipping:\n",
    "\n",
    "| Purchase_Cat | Shipping_Cost_Raw |   |   |   |\n",
    "|--------------|-------------------|---|---|---|\n",
    "| <5000        | 100               |   |   |   |\n",
    "| 5000 - 8000  | 50                |   |   |   |\n",
    "| >=8000       | 0                 |   |   |   |"
   ]
  },
  {
   "cell_type": "code",
   "execution_count": null,
   "id": "a32238f8-fde9-4c20-8374-3c6aa2ac0ca2",
   "metadata": {},
   "outputs": [],
   "source": [
    "# Выведи новый датафрейм\n",
    "shipping = pd.DataFrame\n",
    "shipping"
   ]
  },
  {
   "cell_type": "markdown",
   "id": "00fd9e6a",
   "metadata": {},
   "source": [
    "## Задача 9: Добавь в таблицу data колонку Shipping_Cost_Raw , используя таблицу shipping, созданную выше."
   ]
  },
  {
   "cell_type": "code",
   "execution_count": null,
   "id": "eae26b3b",
   "metadata": {},
   "outputs": [],
   "source": [
    "# Выведи датафрейм с новой колонкой\n",
    "data = data.merge"
   ]
  },
  {
   "cell_type": "markdown",
   "id": "de9121d7",
   "metadata": {},
   "source": [
    "## Задача 10: Из таблицы data создай новую таблицу со статистикой по колонке Age. В этой таблице для каждого уникального значения Age должны быть:\n",
    "\n",
    "* число покупателей (количество уникальных значений по полю User_ID), \n",
    "* средняя стоимость покупки (среднее по полю Purchase), \n",
    "* максимальная сумма покупки (максимальное значение поля Purchase), \n",
    "* минимальная сумма покупки (минимальное значение поля Purchase)\n"
   ]
  },
  {
   "cell_type": "code",
   "execution_count": null,
   "id": "5011e572-2c6d-4b87-b51f-2b3d054e86a0",
   "metadata": {},
   "outputs": [],
   "source": [
    "# Выведи новый датафрейм с агрегациями\n",
    "data"
   ]
  }
 ],
 "metadata": {
  "anaconda-cloud": {},
  "kernelspec": {
   "display_name": "Python 3 (ipykernel)",
   "language": "python",
   "name": "python3"
  },
  "language_info": {
   "codemirror_mode": {
    "name": "ipython",
    "version": 3
   },
   "file_extension": ".py",
   "mimetype": "text/x-python",
   "name": "python",
   "nbconvert_exporter": "python",
   "pygments_lexer": "ipython3",
   "version": "3.11.11"
  }
 },
 "nbformat": 4,
 "nbformat_minor": 5
}
