{
 "cells": [
  {
   "cell_type": "code",
   "execution_count": null,
   "id": "269da740",
   "metadata": {},
   "outputs": [],
   "source": [
    "!pip install pandasql"
   ]
  },
  {
   "cell_type": "code",
   "execution_count": null,
   "id": "61f20144",
   "metadata": {},
   "outputs": [],
   "source": [
    "!git clone https://github.com/VadimBaev/tests.git"
   ]
  },
  {
   "cell_type": "code",
   "execution_count": null,
   "id": "2ea3ee2a",
   "metadata": {},
   "outputs": [],
   "source": [
    "cd tests"
   ]
  },
  {
   "cell_type": "markdown",
   "id": "706a53d0",
   "metadata": {},
   "source": [
    "# Pandas"
   ]
  },
  {
   "cell_type": "code",
   "execution_count": null,
   "id": "5c49fd37",
   "metadata": {},
   "outputs": [],
   "source": [
    "import pandas as pd\n",
    "import sqlite3\n",
    "import pandasql as ps\n",
    "import numpy as np"
   ]
  },
  {
   "cell_type": "code",
   "execution_count": null,
   "id": "7e5f1a3b",
   "metadata": {},
   "outputs": [],
   "source": [
    "# импортим файл\n",
    "data = "
   ]
  },
  {
   "cell_type": "code",
   "execution_count": null,
   "id": "9126bf9a-8177-4aaf-b1da-82fcb833374d",
   "metadata": {},
   "outputs": [],
   "source": [
    "actions = "
   ]
  },
  {
   "cell_type": "code",
   "execution_count": null,
   "id": "74bd7e9f",
   "metadata": {},
   "outputs": [],
   "source": [
    "conn = sqlite3.connect(':memory:') \n",
    " \n",
    "# сохранить DataFrame как таблицу в базе данных \n",
    "data.to_sql('my_table', conn, index=False) \n",
    "actions.to_sql('user_actions', conn, index=False)"
   ]
  },
  {
   "cell_type": "markdown",
   "id": "dede7943-28c0-4409-8bfb-539d14607cf9",
   "metadata": {},
   "source": [
    "# Общая информация о датасете"
   ]
  },
  {
   "cell_type": "code",
   "execution_count": null,
   "id": "d4bce334",
   "metadata": {},
   "outputs": [],
   "source": [
    "# Смотрим структуру таблицы, типы данных, количество строк и столбцов\n",
    "data"
   ]
  },
  {
   "cell_type": "code",
   "execution_count": null,
   "id": "04117b27-49a0-41e4-bdbe-1634ad4f85cd",
   "metadata": {},
   "outputs": [],
   "source": [
    "actions"
   ]
  },
  {
   "cell_type": "markdown",
   "id": "7f99d1f4-1245-4d6d-a048-c77f8a026259",
   "metadata": {},
   "source": [
    "# SQL"
   ]
  },
  {
   "cell_type": "markdown",
   "id": "deab5d56-cd6c-4963-81be-93c1d6679127",
   "metadata": {},
   "source": [
    "## Задача 1: Какое количество уникальных пользователей и дубликатов по User_ID"
   ]
  },
  {
   "cell_type": "code",
   "execution_count": null,
   "id": "7cda53fd-3f56-4645-8e81-2207c16eb767",
   "metadata": {},
   "outputs": [],
   "source": [
    "# Количество уникальных пользователей\n",
    "q1 = \"\"\"\n",
    "    SELECT\n",
    "    \"\"\"\n",
    "\n",
    "result = pd.read_sql_query(q1, conn) \n",
    "result.head()"
   ]
  },
  {
   "cell_type": "code",
   "execution_count": null,
   "id": "8d9ac746-0b45-4bdb-bea4-01cc78b20ec7",
   "metadata": {},
   "outputs": [],
   "source": [
    "# Количество дубликатов (повторяющихся ID)\n",
    "q1 = \"\"\"\n",
    "    SELECT\n",
    "    \"\"\"\n",
    "\n",
    "result = pd.read_sql_query(q1, conn) \n",
    "result.head()"
   ]
  },
  {
   "cell_type": "markdown",
   "id": "c41121a3-3902-491a-9193-31c74a434fc3",
   "metadata": {
    "jp-MarkdownHeadingCollapsed": true
   },
   "source": [
    "### Подсказка"
   ]
  },
  {
   "cell_type": "markdown",
   "id": "acdda3b9-6d50-4247-9e76-b6145dfffb78",
   "metadata": {},
   "source": [
    "Найди разницу между общим количеством пользователей и уникальными пользователями"
   ]
  },
  {
   "cell_type": "markdown",
   "id": "40a356fc-6e86-4290-97e7-5e5d5dc6db89",
   "metadata": {},
   "source": [
    "## Задача 2: Посчитать количество пропусков в Product_Category_2 и Product_Category_3 в одном запросе"
   ]
  },
  {
   "cell_type": "code",
   "execution_count": null,
   "id": "1908b7d7-4abd-4837-b32b-a2de11701e65",
   "metadata": {},
   "outputs": [],
   "source": [
    "# Количество пропусков\n",
    "q1 = \"\"\"\n",
    "    SELECT \n",
    "    \"\"\"\n",
    "\n",
    "result = pd.read_sql_query(q1, conn) \n",
    "result.head()"
   ]
  },
  {
   "cell_type": "markdown",
   "id": "7ee571ef-a5a9-425c-9823-2f8ed5f5f614",
   "metadata": {
    "jp-MarkdownHeadingCollapsed": true
   },
   "source": [
    "### Подсказка"
   ]
  },
  {
   "cell_type": "markdown",
   "id": "b9b43a53-9f97-4441-abe1-ecbde6aa6c86",
   "metadata": {},
   "source": [
    "Используй условные выражения CASE"
   ]
  },
  {
   "cell_type": "markdown",
   "id": "23da98e9-065b-440d-831f-d96f684ed1c2",
   "metadata": {},
   "source": [
    "## Задача 3: Какая средняя сумма покупок и количество покупателей мужского и женского пола, проживающих в городе типа А"
   ]
  },
  {
   "cell_type": "code",
   "execution_count": null,
   "id": "29b1d912-9099-4da9-bdbd-dcf9f1f20b93",
   "metadata": {},
   "outputs": [],
   "source": [
    "# Вывести пол, количество покупателей и среднюю сумму\n",
    "q1 = \"\"\"\n",
    "    SELECT \n",
    "    \"\"\"\n",
    "\n",
    "result = pd.read_sql_query(q1, conn) \n",
    "result.head()"
   ]
  },
  {
   "cell_type": "markdown",
   "id": "9519772d-c165-484c-9150-7c0db4651827",
   "metadata": {
    "jp-MarkdownHeadingCollapsed": true
   },
   "source": [
    "### Подсказка"
   ]
  },
  {
   "cell_type": "markdown",
   "id": "feab8e60-2d82-4669-83ee-d9999cb0cc4e",
   "metadata": {},
   "source": [
    "## Задача 4: Найди топ-3 пользователя по сумме покупок при условии что покупок > 50"
   ]
  },
  {
   "cell_type": "code",
   "execution_count": null,
   "id": "61474517-ade6-43ce-8e5a-bb90a9dea508",
   "metadata": {},
   "outputs": [],
   "source": [
    "# Используй подзапрос/СТЕ\n",
    "q1 = \"\"\"\n",
    "    SELECT\n",
    "    \"\"\"\n",
    "\n",
    "result = pd.read_sql_query(q1, conn) \n",
    "result.head()"
   ]
  },
  {
   "cell_type": "code",
   "execution_count": null,
   "id": "0b4127aa-cf6c-46fc-ad8d-0e78a858b749",
   "metadata": {},
   "outputs": [],
   "source": [
    "# Используй фильтрацию агрегированных результатов\n",
    "q1 = \"\"\"\n",
    "      SELECT\n",
    "    \"\"\"\n",
    "\n",
    "result = pd.read_sql_query(q1, conn) \n",
    "result.head()"
   ]
  },
  {
   "cell_type": "markdown",
   "id": "f9550f70-ee2d-4f9a-a1aa-b759a296fbb0",
   "metadata": {
    "jp-MarkdownHeadingCollapsed": true
   },
   "source": [
    "### Подсказка"
   ]
  },
  {
   "cell_type": "markdown",
   "id": "96f36600-08f0-45ba-a56a-7d3e759f3c21",
   "metadata": {},
   "source": [
    "- сгруппируй пользователей\n",
    "- посчитай количество покупок и сумму\n",
    "- отфильтруй по количеству покупок\n",
    "- задай порядок по сумме по убыванию"
   ]
  },
  {
   "cell_type": "markdown",
   "id": "d95a8016-23ae-4f74-aeaf-2a1ad1d46cfb",
   "metadata": {},
   "source": [
    "## Задача 5: Создай новое поле Purchase_cat с категориями покупок\n",
    "- Purchase_cat = '<5000' , если Purchase < 5000\n",
    "- Purchase_cat = '5000 - 8000' , если 5000 <= Purchase < 8000\n",
    "- Purchase_cat = '>=8000' , если 8000 <= Purchase"
   ]
  },
  {
   "cell_type": "code",
   "execution_count": null,
   "id": "dffd9c75-c217-4551-8cd9-6353b9a3f115",
   "metadata": {},
   "outputs": [],
   "source": [
    "# Выведи все поля + новое \n",
    "q1 = \"\"\"\n",
    "    SELECT\n",
    "    \"\"\"\n",
    "\n",
    "result = pd.read_sql_query(q1, conn) \n",
    "result.head()"
   ]
  },
  {
   "cell_type": "markdown",
   "id": "e682b8ea-349a-4f52-af68-7d3663444a10",
   "metadata": {
    "jp-MarkdownHeadingCollapsed": true
   },
   "source": [
    "### Подсказка"
   ]
  },
  {
   "cell_type": "markdown",
   "id": "cae310a5-1691-4c6d-9fb2-8215edb4137b",
   "metadata": {},
   "source": [
    "## Задача 6: Найди вторую по стоимости покупку для пользователей с User_ID 1000001, 1000002, 1000003 (если таких несколько, то первая по порядку)"
   ]
  },
  {
   "cell_type": "code",
   "execution_count": null,
   "id": "aae48af7-66df-4488-b202-39752e254517",
   "metadata": {},
   "outputs": [],
   "source": [
    "# Используй оконную функцию\n",
    "q1 = \"\"\"\n",
    "    SELECT\n",
    "    \"\"\"\n",
    "\n",
    "result = pd.read_sql_query(q1, conn) \n",
    "result.head()"
   ]
  },
  {
   "cell_type": "markdown",
   "id": "6d266fd8-ee85-4831-b10e-4495dcbf73b2",
   "metadata": {},
   "source": [
    "### Подсказка"
   ]
  },
  {
   "cell_type": "markdown",
   "id": "20552361-ba3a-4b80-8e5c-2b2911016078",
   "metadata": {
    "execution": {
     "iopub.execute_input": "2025-05-22T13:45:21.617650Z",
     "iopub.status.busy": "2025-05-22T13:45:21.617263Z",
     "iopub.status.idle": "2025-05-22T13:45:21.621157Z",
     "shell.execute_reply": "2025-05-22T13:45:21.620705Z",
     "shell.execute_reply.started": "2025-05-22T13:45:21.617632Z"
    }
   },
   "source": [
    "используй условные выражения CASE"
   ]
  },
  {
   "cell_type": "markdown",
   "id": "4f16c372-8bb9-4d7a-80a1-f4437f9fbecd",
   "metadata": {},
   "source": [
    "## Задача 7: Посчитайте количество юзеров, которые не совершили ни одного действия"
   ]
  },
  {
   "cell_type": "code",
   "execution_count": null,
   "id": "a60c1fc7-c324-4eb1-b8d6-94c9ab3477d1",
   "metadata": {},
   "outputs": [],
   "source": [
    "# Используй таблицу user_actions\n",
    "q1 = \"\"\"\n",
    "      SELECT\n",
    "    \"\"\"\n",
    "\n",
    "result = pd.read_sql_query(q1, conn) \n",
    "result.head()"
   ]
  },
  {
   "cell_type": "markdown",
   "id": "a76d7850-8ef8-45e1-88f8-c85b354a6c29",
   "metadata": {
    "jp-MarkdownHeadingCollapsed": true
   },
   "source": [
    "### Подсказка"
   ]
  },
  {
   "cell_type": "markdown",
   "id": "912b6287-af2b-4663-bb56-d84521bd7fb5",
   "metadata": {},
   "source": [
    "- используй левый джойн\n",
    "- отфильтруй те айди, которых нет в таблице user_actions"
   ]
  },
  {
   "cell_type": "markdown",
   "id": "c80c2465",
   "metadata": {},
   "source": [
    "# Pandas"
   ]
  },
  {
   "cell_type": "markdown",
   "id": "91944017-f752-4686-9b73-9ccb7a3ebfad",
   "metadata": {},
   "source": [
    "## Задача 1: Какое количество уникальных пользователей и дубликатов по User_ID"
   ]
  },
  {
   "cell_type": "code",
   "execution_count": null,
   "id": "4ef24bc5-a87a-4c15-8ffe-7ee02b10455e",
   "metadata": {},
   "outputs": [],
   "source": [
    "# количество уникальных пользователей\n",
    "data"
   ]
  },
  {
   "cell_type": "code",
   "execution_count": null,
   "id": "728d5953-4e73-41ef-b737-56c2e43e8c85",
   "metadata": {},
   "outputs": [],
   "source": [
    "# количество дубликатов по User_ID\n",
    "data"
   ]
  },
  {
   "cell_type": "markdown",
   "id": "ed259286-446a-428e-a7bd-e714e836dce1",
   "metadata": {},
   "source": [
    "## Задача 2: Посчитать количество пропусков в Product_Category_2 и Product_Category_3"
   ]
  },
  {
   "cell_type": "code",
   "execution_count": null,
   "id": "d8b70065-438f-4319-ab15-99fd006a00f8",
   "metadata": {},
   "outputs": [],
   "source": [
    "# количество пропусков\n",
    "data"
   ]
  },
  {
   "cell_type": "markdown",
   "id": "05820ca1-de24-4ead-a85c-664d5a3b041c",
   "metadata": {
    "jp-MarkdownHeadingCollapsed": true
   },
   "source": [
    "### Подсказка"
   ]
  },
  {
   "cell_type": "markdown",
   "id": "ed245aef-a522-4e9b-b5d7-4cdeeaee3c0d",
   "metadata": {
    "execution": {
     "iopub.execute_input": "2025-05-22T13:47:05.947495Z",
     "iopub.status.busy": "2025-05-22T13:47:05.946977Z",
     "iopub.status.idle": "2025-05-22T13:47:05.950407Z",
     "shell.execute_reply": "2025-05-22T13:47:05.949956Z",
     "shell.execute_reply.started": "2025-05-22T13:47:05.947477Z"
    }
   },
   "source": [
    "возьми из датасета только необходимые поля и примени функцию "
   ]
  },
  {
   "cell_type": "markdown",
   "id": "57cbe5fb-8d7b-4d04-a752-114becb3106b",
   "metadata": {},
   "source": [
    "## Задача 3: Сколько женщин из города категории A старше 55 лет?"
   ]
  },
  {
   "cell_type": "code",
   "execution_count": null,
   "id": "06a04f0f-de9b-41a1-a50f-522b747ec0db",
   "metadata": {},
   "outputs": [],
   "source": [
    "# количество женщин\n",
    "data"
   ]
  },
  {
   "cell_type": "markdown",
   "id": "dcea3174-a771-4af5-9279-36b8c73db58c",
   "metadata": {
    "jp-MarkdownHeadingCollapsed": true
   },
   "source": [
    "### Подсказка"
   ]
  },
  {
   "cell_type": "markdown",
   "id": "043538cb-5226-49f8-b859-40c8d6213f1a",
   "metadata": {},
   "source": [
    "- отфильтруй датасет\n",
    "- посчитай юзеров"
   ]
  },
  {
   "cell_type": "markdown",
   "id": "b98d4655-c8e6-4976-9dd6-5c7f2a557325",
   "metadata": {},
   "source": [
    "## Задача 4: Какая доля от всех покупок приходится на город категории А?"
   ]
  },
  {
   "cell_type": "code",
   "execution_count": null,
   "id": "f8e587e4-431f-478a-a797-810bb047cb98",
   "metadata": {},
   "outputs": [],
   "source": [
    "# доля от всех покупок\n",
    "data"
   ]
  },
  {
   "cell_type": "markdown",
   "id": "86ba9b80-4e38-405d-88bd-4ef68ba38f90",
   "metadata": {
    "jp-MarkdownHeadingCollapsed": true
   },
   "source": [
    "### Подсказка"
   ]
  },
  {
   "cell_type": "markdown",
   "id": "d510bbe6-a5aa-4d17-a5bb-719e3ecb2688",
   "metadata": {},
   "source": [
    "подели сумму покупок при соответствующем фильтре на сумму всех покупок"
   ]
  },
  {
   "cell_type": "markdown",
   "id": "8f1324d4-50cd-4405-bffb-34ab420134af",
   "metadata": {},
   "source": [
    "## Задача 5: Какая возрастная категория самая прибыльная?"
   ]
  },
  {
   "cell_type": "code",
   "execution_count": null,
   "id": "0b51b721-b88e-430d-92fa-998303631488",
   "metadata": {},
   "outputs": [],
   "source": [
    "# категории\n",
    "data"
   ]
  },
  {
   "cell_type": "markdown",
   "id": "a77642e8-bb19-4c74-b311-e4726b37a536",
   "metadata": {
    "jp-MarkdownHeadingCollapsed": true
   },
   "source": [
    "### Подсказка"
   ]
  },
  {
   "cell_type": "markdown",
   "id": "8f7a8eab-7534-43c4-b546-2c1fa814d33b",
   "metadata": {},
   "source": [
    "примени группировку к полю с возрастными категориями и проссумируй по полю с суммами покупок"
   ]
  },
  {
   "cell_type": "markdown",
   "id": "4c42c12a-bdd3-4344-b91f-48c030b30181",
   "metadata": {},
   "source": [
    "## Задача 6: Какая средняя сумма покупок и количество покупателей мужского и женского пола, проживающих в городе типа А"
   ]
  },
  {
   "cell_type": "code",
   "execution_count": null,
   "id": "36e6f3d8-c34b-4efc-b5c3-20beb297de24",
   "metadata": {},
   "outputs": [],
   "source": [
    "# Статистика\n",
    "data"
   ]
  },
  {
   "cell_type": "markdown",
   "id": "6b2dbb8c-bafa-42f2-928e-14914fbe9b64",
   "metadata": {
    "jp-MarkdownHeadingCollapsed": true
   },
   "source": [
    "### Подсказка"
   ]
  },
  {
   "cell_type": "markdown",
   "id": "77203d74-a175-41bb-b549-dc574f23ef95",
   "metadata": {},
   "source": [
    "- примени фильтр\n",
    "- сгруппируй по полу\n",
    "- примени агрегацию к полю с суммами покупок"
   ]
  },
  {
   "cell_type": "markdown",
   "id": "3f7884f6-975d-423d-b016-fd6dcc575b00",
   "metadata": {},
   "source": [
    "## Задача 7: Создай категориальную фичу Purchase_Сat с помощью колонки Purchase:\n",
    "\n",
    "Purchase_cat = '<5000' , если Purchase < 5000\n",
    "\n",
    "Purchase_cat = '5000 - 8000' , если 5000 <= Purchase < 8000\n",
    "\n",
    "Purchase_cat = '>=8000' , если 8000 <= Purchase"
   ]
  },
  {
   "cell_type": "code",
   "execution_count": null,
   "id": "6fa4f228",
   "metadata": {},
   "outputs": [],
   "source": [
    "# датафрейм с новой категорией\n",
    "data.loc..."
   ]
  },
  {
   "cell_type": "markdown",
   "id": "0c36f20c-f7cc-4600-9d56-150c488eae18",
   "metadata": {
    "jp-MarkdownHeadingCollapsed": true
   },
   "source": [
    "### Подсказка"
   ]
  },
  {
   "cell_type": "markdown",
   "id": "8b2e1995-7b0e-401f-a77c-367ff275c0e3",
   "metadata": {},
   "source": [
    "синтаксис data.loc[фильтр по полю, название нового столбца] = название категории"
   ]
  },
  {
   "cell_type": "markdown",
   "id": "c98940ec-0bd7-43af-8cb2-f8d2865264d9",
   "metadata": {},
   "source": [
    "## Задача 8: Создай таблицу shipping:\n",
    "\n",
    "| Purchase_Cat | Shipping_Cost_Raw |   |   |   |\n",
    "|--------------|-------------------|---|---|---|\n",
    "| <5000        | 100               |   |   |   |\n",
    "| 5000 - 8000  | 50                |   |   |   |\n",
    "| >=8000       | 0                 |   |   |   |"
   ]
  },
  {
   "cell_type": "code",
   "execution_count": null,
   "id": "a32238f8-fde9-4c20-8374-3c6aa2ac0ca2",
   "metadata": {},
   "outputs": [],
   "source": [
    "# новый датафрейм\n",
    "shipping = pd.DataFrame\n",
    "shipping"
   ]
  },
  {
   "cell_type": "markdown",
   "id": "257fdc3e-bdca-45d7-8269-dd154395f59b",
   "metadata": {
    "jp-MarkdownHeadingCollapsed": true
   },
   "source": [
    "### Подсказка"
   ]
  },
  {
   "cell_type": "markdown",
   "id": "5e25186f-f917-4d01-b97c-61914fcca3f9",
   "metadata": {},
   "source": [
    "для создания датафрейма нужно передать словарь со значениями"
   ]
  },
  {
   "cell_type": "markdown",
   "id": "00fd9e6a",
   "metadata": {},
   "source": [
    "## Задача 9: Добавь в таблицу data колонку Shipping_Cost_Raw , используя таблицу shipping, созданную выше."
   ]
  },
  {
   "cell_type": "code",
   "execution_count": null,
   "id": "eae26b3b",
   "metadata": {},
   "outputs": [],
   "source": [
    "# датафрейм с новой колонкой\n",
    "data = data.merge"
   ]
  },
  {
   "cell_type": "markdown",
   "id": "5667e84a-b151-4075-a986-ce8c0336c742",
   "metadata": {
    "jp-MarkdownHeadingCollapsed": true
   },
   "source": [
    "### Подсказка"
   ]
  },
  {
   "cell_type": "markdown",
   "id": "6d8940f1-b0c7-45da-8503-b8576cab7831",
   "metadata": {},
   "source": [
    "для соединения двух таблиц передай название второй таблицы и укажи по какому полю соединение и каким образом присоединять таблицу (слева или справа)"
   ]
  },
  {
   "cell_type": "markdown",
   "id": "de9121d7",
   "metadata": {},
   "source": [
    "## Задача 10: Из таблицы data создай новую таблицу со статистикой по колонке Age. В этой таблице для каждого уникального значения Age должны быть:\n",
    "\n",
    "* число покупателей (количество уникальных значений по полю User_ID), \n",
    "* средняя стоимость покупки (среднее по полю Purchase), \n",
    "* максимальная сумма покупки (максимальное значение поля Purchase), \n",
    "* минимальная сумма покупки (минимальное значение поля Purchase)\n"
   ]
  },
  {
   "cell_type": "code",
   "execution_count": null,
   "id": "5011e572-2c6d-4b87-b51f-2b3d054e86a0",
   "metadata": {},
   "outputs": [],
   "source": [
    "# новый датафрейм с агрегациями\n",
    "data"
   ]
  },
  {
   "cell_type": "markdown",
   "id": "a57ede95-d6b6-43a6-a222-f358a83fb6b4",
   "metadata": {
    "jp-MarkdownHeadingCollapsed": true
   },
   "source": [
    "### Подсказка"
   ]
  },
  {
   "cell_type": "markdown",
   "id": "3e9bca18-0ab6-4074-a32b-dd40c094eab6",
   "metadata": {},
   "source": [
    "к полю с возрастными категориями применяется множественная агрегация"
   ]
  }
 ],
 "metadata": {
  "anaconda-cloud": {},
  "kernelspec": {
   "display_name": "Python 3 (ipykernel)",
   "language": "python",
   "name": "python3"
  },
  "language_info": {
   "codemirror_mode": {
    "name": "ipython",
    "version": 3
   },
   "file_extension": ".py",
   "mimetype": "text/x-python",
   "name": "python",
   "nbconvert_exporter": "python",
   "pygments_lexer": "ipython3",
   "version": "3.11.11"
  }
 },
 "nbformat": 4,
 "nbformat_minor": 5
}
